{
 "cells": [
  {
   "cell_type": "markdown",
   "metadata": {},
   "source": [
    "## Loading The Libraries"
   ]
  },
  {
   "cell_type": "code",
   "execution_count": null,
   "metadata": {},
   "outputs": [],
   "source": [
    "import os\n",
    "from PIL import Image\n",
    "import shutil"
   ]
  },
  {
   "cell_type": "markdown",
   "metadata": {},
   "source": [
    "## Creating 'Original' Folder"
   ]
  },
  {
   "cell_type": "markdown",
   "metadata": {},
   "source": [
    "A folder will be created in the same directory with the Pricelists_Transormation.ipynb file. If the folder allready exists, no action will take place and the output will inform the user accordingly.  "
   ]
  },
  {
   "cell_type": "code",
   "execution_count": null,
   "metadata": {},
   "outputs": [],
   "source": [
    "dirName = 'Original'\n",
    "\n",
    "try:\n",
    "    os.mkdir(dirName)\n",
    "    print(\"Directory \", dirName,  \" Created \")\n",
    "except FileExistsError:\n",
    "    print(\"Directory \", dirName,  \" already exists\")\n",
    "    "
   ]
  },
  {
   "cell_type": "markdown",
   "metadata": {},
   "source": [
    "## Placing the original photos (Pricelists)"
   ]
  },
  {
   "cell_type": "markdown",
   "metadata": {},
   "source": [
    "Please copy and paste the Pricelists that you wish to convert, inside the 'Original' directory. No transformations will take place in this folder. The files in this folder will remain intact."
   ]
  },
  {
   "cell_type": "markdown",
   "metadata": {},
   "source": [
    "## Creating the 'Resized' Folder"
   ]
  },
  {
   "cell_type": "markdown",
   "metadata": {},
   "source": [
    "A new directory named 'Resized' will be created and the files from the 'Original' directory will be copied inside 'Resized' directory. All the modifications will occur inside 'Resized' directory."
   ]
  },
  {
   "cell_type": "code",
   "execution_count": null,
   "metadata": {},
   "outputs": [],
   "source": [
    "dirName1 = 'Resized'\n",
    "try:\n",
    "    os.mkdir(dirName1)\n",
    "    print(\"\\nDirectory \", dirName1,  \" Created \\n\")\n",
    "except FileExistsError:\n",
    "    print(\"\\nDirectory \", dirName1,  \" already exists\\n\")"
   ]
  },
  {
   "cell_type": "markdown",
   "metadata": {},
   "source": [
    "## Copying the Files"
   ]
  },
  {
   "cell_type": "markdown",
   "metadata": {},
   "source": [
    "The files will be copied inside 'Resized' directory. Any files that are not photos ('.jpg' or '.png' or '.jpeg' files, works for both lowercase and capital letters) will be ignored and won't be transferred. "
   ]
  },
  {
   "cell_type": "code",
   "execution_count": null,
   "metadata": {},
   "outputs": [],
   "source": [
    "cnt = 0 \n",
    "cnt1 = 0\n",
    "list_of_no_photo_files = []\n",
    "for image_file_name in os.listdir('Original'):\n",
    "    cnt += 1\n",
    "    if image_file_name.lower().endswith(\".jpg\") or image_file_name.lower().endswith(\".png\") or image_file_name.lower().endswith(\".jpeg\"):\n",
    "        cnt1 += 1\n",
    "        newPath = shutil.copy('Original/' + image_file_name, 'Resized/' + image_file_name)\n",
    "    else:\n",
    "        list_of_no_photo_files.append(image_file_name)\n",
    "\n",
    "no_photos = cnt - cnt1       \n",
    "if no_photos == 0:\n",
    "    message = 'All files were transferred.'\n",
    "elif  no_photos == 1:\n",
    "    message = 'There is ' + str(no_photos)+' file detected, which is not an image:'\n",
    "else:\n",
    "    message = 'there are ' + str(no_photos)+' files detected, which are not images:'\n",
    "    \n",
    "print( str(cnt1) + ' files out of ' + str(cnt) + ' where transferred to \"Resized\" folder.')\n",
    "print(message)\n",
    "if no_photos > 0:\n",
    "    print(*list_of_no_photo_files, sep=\"\\n\")\n",
    "    "
   ]
  },
  {
   "cell_type": "markdown",
   "metadata": {},
   "source": [
    "## Checking for photos that are not in RGB mode"
   ]
  },
  {
   "cell_type": "markdown",
   "metadata": {},
   "source": [
    "This check occurs in order to detect files that are in CMYK mode because the colors in these files, after the transformations, are slightly changed. Furthermore, the mode must be changed (from CMYK to RGB) in order for the pricelists to appear correctly in PaSPort."
   ]
  },
  {
   "cell_type": "code",
   "execution_count": null,
   "metadata": {},
   "outputs": [],
   "source": [
    "cnt = 0 \n",
    "cnt1 = 0\n",
    "list_of_no_RGB_files = []\n",
    "for image_file_name in os.listdir('Resized'):\n",
    "    if image_file_name.lower().endswith(\".jpg\") or image_file_name.lower().endswith(\".png\") or image_file_name.lower().endswith(\".jpeg\"):\n",
    "        cnt += 1\n",
    "        im = Image.open('Resized//' + image_file_name)\n",
    "        if im.mode != 'RGB':\n",
    "            cnt1 += 1\n",
    "            list_of_no_RGB_files.append(image_file_name)\n",
    "            \n",
    "        print(image_file_name + ' : ' + im.mode)\n",
    "    \n",
    "if cnt1 == 0:\n",
    "    message = 'All the photos inside the directory are formatted in \"RGB\" mode.'\n",
    "elif  cnt1 == 1:\n",
    "    message = 'There is ' + str(cnt1)+' photo that is not in \"RGB\" format:'\n",
    "else:\n",
    "    message = 'There are ' + str(cnt1)+' photos that are not in \"RGB\" format:'\n",
    "            \n",
    "print(message)                        \n",
    "for image_file_name in list_of_no_RGB_files: \n",
    "    im = Image.open('Resized//' + image_file_name)\n",
    "    print(image_file_name + ' mode: ' + im.mode)   "
   ]
  },
  {
   "cell_type": "markdown",
   "metadata": {},
   "source": [
    "## Converting images to RGB mode"
   ]
  },
  {
   "cell_type": "markdown",
   "metadata": {},
   "source": [
    "Optional step. Needed only in case there were CMYK files detected in the previous step. If all the files were in 'RGB' mode, no actions will take place."
   ]
  },
  {
   "cell_type": "code",
   "execution_count": null,
   "metadata": {},
   "outputs": [],
   "source": [
    "cnt = 0 \n",
    "cnt1 = 0\n",
    "for image_file_name in os.listdir('Resized'):\n",
    "    if image_file_name.lower().endswith(\".jpg\") or image_file_name.lower().endswith(\".png\") or image_file_name.lower().endswith(\".jpeg\"):\n",
    "        cnt += 1\n",
    "        im = Image.open('Resized//' + image_file_name)\n",
    "        if im.mode == 'CMYK':\n",
    "            cnt1 += 1\n",
    "            im = im.convert(mode='RGB')\n",
    "            im.save('Resized//' + image_file_name)\n",
    "            print('The following image was converted from \"CMYK\" to \"RGB\" mode:')\n",
    "            print(image_file_name + ' : ' + im.mode)\n"
   ]
  },
  {
   "cell_type": "markdown",
   "metadata": {},
   "source": [
    "## Rotating images that are currently in landscape mode"
   ]
  },
  {
   "cell_type": "markdown",
   "metadata": {},
   "source": [
    "Optional step. Needed only in case there are files in landscape mode inside 'Resized' directory."
   ]
  },
  {
   "cell_type": "code",
   "execution_count": null,
   "metadata": {},
   "outputs": [],
   "source": [
    "cnt = 0\n",
    "cnt1 = 0 \n",
    "for image_file_name in os.listdir('Resized'):\n",
    "\n",
    "    if image_file_name.lower().endswith(\".jpg\") or image_file_name.lower().endswith(\n",
    "            \".png\") or image_file_name.lower().endswith(\".jpeg\"):\n",
    "        cnt += 1\n",
    "\n",
    "        im = Image.open('Resized//' + image_file_name)\n",
    "        if im.size[0] > im.size[1]:\n",
    "            cnt1 += 1\n",
    "            im = im.rotate(270, expand=True)\n",
    "        im.save('Resized//' + image_file_name)\n",
    "\n",
    "if cnt1 != 0:\n",
    "    print(str(cnt1) + ' images were rotatted.')\n",
    "else:\n",
    "    print('No actions took place!')"
   ]
  },
  {
   "cell_type": "markdown",
   "metadata": {},
   "source": [
    "## Resizing the images"
   ]
  },
  {
   "cell_type": "code",
   "execution_count": null,
   "metadata": {},
   "outputs": [],
   "source": [
    "cnt = 0\n",
    "for image_file_name in os.listdir('Resized'):\n",
    "\n",
    "    if image_file_name.lower().endswith(\".jpg\") or image_file_name.lower().endswith(\".png\") or image_file_name.lower().endswith(\".jpeg\"):\n",
    "        \n",
    "        cnt += 1\n",
    "   \n",
    "        im = Image.open('Resized//' + image_file_name)\n",
    "        while os.path.getsize('Resized//' + image_file_name) >= 400000:\n",
    "            print(os.path.getsize('Resized//' + image_file_name))\n",
    "            if os.path.getsize('Resized//' + image_file_name) >= 1600000:\n",
    "                scale_percent = 58 # percent of original size\n",
    "                width = int(im.size[0] * scale_percent / 100)\n",
    "                height = int(im.size[1] * scale_percent / 100)\n",
    "                dim = (width, height)\n",
    "            elif os.path.getsize('Resized//' + image_file_name) >= 600000:\n",
    "                scale_percent = 90\n",
    "            # percent of original size\n",
    "                width = int(im.size[0] * scale_percent / 100)\n",
    "                height = int(im.size[1] * scale_percent / 100)\n",
    "                dim = (width, height)                \n",
    "            else:\n",
    "                scale_percent = 96 # percent of original size\n",
    "                width = int(im.size[0] * scale_percent / 100)\n",
    "                height = int(im.size[1] * scale_percent / 100)\n",
    "                dim = (width, height)\n",
    "                \n",
    "            im = im.resize((width, height), Image.ANTIALIAS)\n",
    "            #if im.size[0] > im.size[1]:\n",
    "                #im = im.rotate(270, expand=True)\n",
    "            im.save('Resized//' + image_file_name)\n",
    "            # print(os.path.getsize('Resized//' +image_file_name))\n",
    "        \n",
    "print(str(cnt) + ' images were resized')"
   ]
  },
  {
   "cell_type": "markdown",
   "metadata": {},
   "source": [
    "Below we can see the final sizes of the files."
   ]
  },
  {
   "cell_type": "code",
   "execution_count": null,
   "metadata": {},
   "outputs": [],
   "source": [
    "for image in os.listdir('Resized'):\n",
    "    print(image + ' : ' + str(int(os.path.getsize('Resized//' + image)/1000)) + ' KBytes')"
   ]
  },
  {
   "cell_type": "markdown",
   "metadata": {},
   "source": [
    "## Renaming the Images"
   ]
  },
  {
   "cell_type": "markdown",
   "metadata": {},
   "source": [
    "Run the following three code windows for each batch of Pricelists that you want to rename."
   ]
  },
  {
   "cell_type": "code",
   "execution_count": null,
   "metadata": {},
   "outputs": [],
   "source": [
    "old_string = input('Please, enter here the old string and press \"Enter\"!\\n')"
   ]
  },
  {
   "cell_type": "code",
   "execution_count": null,
   "metadata": {},
   "outputs": [],
   "source": [
    "new_string = input('Please, enter here the new string and press \"Enter\"!\\n') "
   ]
  },
  {
   "cell_type": "code",
   "execution_count": null,
   "metadata": {},
   "outputs": [],
   "source": [
    "    cnt = 0\n",
    "    renamed = 0\n",
    "    path = 'Resized'\n",
    "    for image_file_name in os.listdir(path):\n",
    "        if image_file_name.lower().endswith(\".jpg\") or image_file_name.lower().endswith(\".png\") or image_file_name.lower().endswith(\".jpeg\"):\n",
    "            cnt += 1\n",
    "            if image_file_name.find(old_string) > -1:\n",
    "                renamed += 1\n",
    "            # image_file_name.replace(old_string, new_string)\n",
    "                os.rename(os.path.join(path, image_file_name), os.path.join(path, image_file_name.replace(old_string, new_string)))\n",
    "\n",
    "    print('List of images, after renaming:')\n",
    "    for image in os.listdir('Resized'):\n",
    "        print(image + ' : ' + str(int(os.path.getsize('Resized//' + image)/1000)) + ' KBytes')\n",
    "        \n",
    "    print(str(renamed) + ' files out of ' + str(cnt) + ' were renamed!')"
   ]
  },
  {
   "cell_type": "code",
   "execution_count": null,
   "metadata": {},
   "outputs": [],
   "source": []
  }
 ],
 "metadata": {
  "kernelspec": {
   "display_name": "Python 3",
   "language": "python",
   "name": "python3"
  },
  "language_info": {
   "codemirror_mode": {
    "name": "ipython",
    "version": 3
   },
   "file_extension": ".py",
   "mimetype": "text/x-python",
   "name": "python",
   "nbconvert_exporter": "python",
   "pygments_lexer": "ipython3",
   "version": "3.7.4"
  }
 },
 "nbformat": 4,
 "nbformat_minor": 2
}
